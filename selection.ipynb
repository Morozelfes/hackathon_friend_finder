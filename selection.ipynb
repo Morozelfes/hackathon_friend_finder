{
 "cells": [
  {
   "cell_type": "code",
   "execution_count": 140,
   "metadata": {},
   "outputs": [],
   "source": [
    "# -*- coding: utf-8 -*-\n",
    "import sqlite3\n",
    "import pandas as pd\n",
    "import csv"
   ]
  },
  {
   "cell_type": "code",
   "execution_count": 141,
   "metadata": {},
   "outputs": [],
   "source": [
    "from operator import itemgetter\n",
    "filename = 'loc_feeling_rating.csv'\n",
    "csv_file = csv.reader(open(filename, 'r',encoding='UTF-8'))"
   ]
  },
  {
   "cell_type": "code",
   "execution_count": 142,
   "metadata": {},
   "outputs": [],
   "source": [
    "df_select = pd.read_csv(filename)"
   ]
  },
  {
   "cell_type": "code",
   "execution_count": 143,
   "metadata": {},
   "outputs": [
    {
     "data": {
      "text/html": [
       "<div>\n",
       "<style scoped>\n",
       "    .dataframe tbody tr th:only-of-type {\n",
       "        vertical-align: middle;\n",
       "    }\n",
       "\n",
       "    .dataframe tbody tr th {\n",
       "        vertical-align: top;\n",
       "    }\n",
       "\n",
       "    .dataframe thead th {\n",
       "        text-align: right;\n",
       "    }\n",
       "</style>\n",
       "<table border=\"1\" class=\"dataframe\">\n",
       "  <thead>\n",
       "    <tr style=\"text-align: right;\">\n",
       "      <th></th>\n",
       "      <th>Unnamed: 0</th>\n",
       "      <th>0</th>\n",
       "      <th>1</th>\n",
       "      <th>2</th>\n",
       "      <th>3</th>\n",
       "      <th>4</th>\n",
       "      <th>5</th>\n",
       "    </tr>\n",
       "  </thead>\n",
       "  <tbody>\n",
       "    <tr>\n",
       "      <th>1390</th>\n",
       "      <td>1236</td>\n",
       "      <td>196.0</td>\n",
       "      <td>236.0</td>\n",
       "      <td>28.0</td>\n",
       "      <td>111.0</td>\n",
       "      <td>171.0</td>\n",
       "      <td>187.0</td>\n",
       "    </tr>\n",
       "    <tr>\n",
       "      <th>6612</th>\n",
       "      <td>2532</td>\n",
       "      <td>191.0</td>\n",
       "      <td>248.0</td>\n",
       "      <td>-19.0</td>\n",
       "      <td>97.0</td>\n",
       "      <td>108.0</td>\n",
       "      <td>185.0</td>\n",
       "    </tr>\n",
       "    <tr>\n",
       "      <th>4696</th>\n",
       "      <td>37716</td>\n",
       "      <td>193.0</td>\n",
       "      <td>177.0</td>\n",
       "      <td>62.0</td>\n",
       "      <td>92.0</td>\n",
       "      <td>130.0</td>\n",
       "      <td>135.0</td>\n",
       "    </tr>\n",
       "    <tr>\n",
       "      <th>3257</th>\n",
       "      <td>37223</td>\n",
       "      <td>195.0</td>\n",
       "      <td>206.0</td>\n",
       "      <td>-3.0</td>\n",
       "      <td>187.0</td>\n",
       "      <td>103.0</td>\n",
       "      <td>184.0</td>\n",
       "    </tr>\n",
       "    <tr>\n",
       "      <th>6017</th>\n",
       "      <td>36096</td>\n",
       "      <td>193.0</td>\n",
       "      <td>174.0</td>\n",
       "      <td>12.0</td>\n",
       "      <td>135.0</td>\n",
       "      <td>127.0</td>\n",
       "      <td>116.0</td>\n",
       "    </tr>\n",
       "    <tr>\n",
       "      <th>334</th>\n",
       "      <td>36443</td>\n",
       "      <td>195.0</td>\n",
       "      <td>199.0</td>\n",
       "      <td>24.0</td>\n",
       "      <td>168.0</td>\n",
       "      <td>197.0</td>\n",
       "      <td>205.0</td>\n",
       "    </tr>\n",
       "    <tr>\n",
       "      <th>6276</th>\n",
       "      <td>3524</td>\n",
       "      <td>192.0</td>\n",
       "      <td>213.0</td>\n",
       "      <td>41.0</td>\n",
       "      <td>110.0</td>\n",
       "      <td>120.0</td>\n",
       "      <td>182.0</td>\n",
       "    </tr>\n",
       "    <tr>\n",
       "      <th>5805</th>\n",
       "      <td>36938</td>\n",
       "      <td>193.0</td>\n",
       "      <td>188.0</td>\n",
       "      <td>24.0</td>\n",
       "      <td>163.0</td>\n",
       "      <td>77.0</td>\n",
       "      <td>169.0</td>\n",
       "    </tr>\n",
       "    <tr>\n",
       "      <th>3222</th>\n",
       "      <td>50515</td>\n",
       "      <td>195.0</td>\n",
       "      <td>160.0</td>\n",
       "      <td>15.0</td>\n",
       "      <td>149.0</td>\n",
       "      <td>137.0</td>\n",
       "      <td>161.0</td>\n",
       "    </tr>\n",
       "    <tr>\n",
       "      <th>3744</th>\n",
       "      <td>2222</td>\n",
       "      <td>191.0</td>\n",
       "      <td>180.0</td>\n",
       "      <td>66.0</td>\n",
       "      <td>213.0</td>\n",
       "      <td>68.0</td>\n",
       "      <td>79.0</td>\n",
       "    </tr>\n",
       "  </tbody>\n",
       "</table>\n",
       "</div>"
      ],
      "text/plain": [
       "      Unnamed: 0      0      1     2      3      4      5\n",
       "1390        1236  196.0  236.0  28.0  111.0  171.0  187.0\n",
       "6612        2532  191.0  248.0 -19.0   97.0  108.0  185.0\n",
       "4696       37716  193.0  177.0  62.0   92.0  130.0  135.0\n",
       "3257       37223  195.0  206.0  -3.0  187.0  103.0  184.0\n",
       "6017       36096  193.0  174.0  12.0  135.0  127.0  116.0\n",
       "334        36443  195.0  199.0  24.0  168.0  197.0  205.0\n",
       "6276        3524  192.0  213.0  41.0  110.0  120.0  182.0\n",
       "5805       36938  193.0  188.0  24.0  163.0   77.0  169.0\n",
       "3222       50515  195.0  160.0  15.0  149.0  137.0  161.0\n",
       "3744        2222  191.0  180.0  66.0  213.0   68.0   79.0"
      ]
     },
     "execution_count": 143,
     "metadata": {},
     "output_type": "execute_result"
    }
   ],
   "source": [
    "###########\n",
    "choice = [0,1,0,0,1,0]\n",
    "###########\n",
    "\n",
    "df_0 = df_select[df_select['0'] < df_select['0'].quantile(.99)]\n",
    "df_0 = df_0.sort_values(by=['0'],ascending = False)\n",
    "df_final = df_0[:20].sample(n=10)\n",
    "df_final"
   ]
  },
  {
   "cell_type": "code",
   "execution_count": 144,
   "metadata": {},
   "outputs": [
    {
     "name": "stdout",
     "output_type": "stream",
     "text": [
      "[('避风塘大宁店', 'Cantonese cuisine', '上海市,闸北区,大宁路', 742)]\n",
      "[('好乐迪量贩式KTV（淮海中路店）', 'KTV', '上海市,卢湾区,重庆中路', 2186)]\n",
      "[('正一品(金汇南路店)', 'Korean cuisine', '上海市,闵行区,金汇南路', 768)]\n",
      "[('MUSE', 'Other', '上海市,黄浦区,北京东路', 1353)]\n",
      "[('耀華路', 'Unknown Classification', '上海市,浦东新区,耀华路', 248)]\n",
      "[('浦东市民中心', 'Bus Station', '上海市,浦东新区,合欢路', 1161)]\n",
      "[('上海小南国花园酒店', 'Hotels, guest houses', '上海市,杨浦区,佳木斯路', 652)]\n",
      "[('一品全大酒店(外高桥店)', 'Shanghai cuisine', '上海市,浦东新区,夏碧路', 282)]\n",
      "[('阳城·贵都', 'Residences', '上海市,闸北区,永和路', 235)]\n",
      "[('上海歌城(中兴路店)', 'KTV', '上海市,闸北区,南北高架路', 841)]\n"
     ]
    }
   ],
   "source": [
    "for index,values in df_final.iterrows():\n",
    "    req = 'SELECT title, category_en_name, address, distinct_user_checkin_count\\\n",
    "      FROM weibo_location\\\n",
    "      WHERE weibo_location_id =' + str(values[0])\n",
    "    c.execute(req)\n",
    "    info_todo = c.fetchall()\n",
    "    print(info_todo)\n",
    "    "
   ]
  },
  {
   "cell_type": "code",
   "execution_count": null,
   "metadata": {},
   "outputs": [],
   "source": []
  },
  {
   "cell_type": "code",
   "execution_count": null,
   "metadata": {},
   "outputs": [],
   "source": []
  },
  {
   "cell_type": "code",
   "execution_count": null,
   "metadata": {},
   "outputs": [],
   "source": []
  },
  {
   "cell_type": "code",
   "execution_count": null,
   "metadata": {},
   "outputs": [],
   "source": []
  },
  {
   "cell_type": "code",
   "execution_count": null,
   "metadata": {},
   "outputs": [],
   "source": []
  }
 ],
 "metadata": {
  "kernelspec": {
   "display_name": "Python 3",
   "language": "python",
   "name": "python3"
  },
  "language_info": {
   "codemirror_mode": {
    "name": "ipython",
    "version": 3
   },
   "file_extension": ".py",
   "mimetype": "text/x-python",
   "name": "python",
   "nbconvert_exporter": "python",
   "pygments_lexer": "ipython3",
   "version": "3.7.0"
  }
 },
 "nbformat": 4,
 "nbformat_minor": 2
}
