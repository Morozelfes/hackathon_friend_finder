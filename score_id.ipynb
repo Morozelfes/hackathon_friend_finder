{
 "cells": [
  {
   "cell_type": "code",
   "execution_count": 1,
   "metadata": {},
   "outputs": [],
   "source": [
    "# -*- coding: utf-8 -*-\n",
    "import sqlite3\n",
    "import pandas as pd\n",
    "import csv"
   ]
  },
  {
   "cell_type": "markdown",
   "metadata": {},
   "source": [
    "Note : rating[happy,boost,chill,loved,adventure,free]"
   ]
  },
  {
   "cell_type": "code",
   "execution_count": 2,
   "metadata": {},
   "outputs": [],
   "source": [
    "conn = sqlite3.connect(\"Urban Data Hackathon/UTSEUS-shanghai-weibo-2012.db\")\n",
    "c = conn.cursor()"
   ]
  },
  {
   "cell_type": "code",
   "execution_count": 3,
   "metadata": {},
   "outputs": [],
   "source": [
    "req = \"SELECT ws.weibo_location_id, status\\\n",
    "      FROM weibo_status AS ws, weibo_location AS wl\\\n",
    "      WHERE wl.weibo_location_id = ws.weibo_location_id\"\n",
    "\n",
    "c.execute(req)\n",
    "raw_data = c.fetchall()"
   ]
  },
  {
   "cell_type": "code",
   "execution_count": 4,
   "metadata": {},
   "outputs": [],
   "source": [
    "labels = ['loc_id','status']\n",
    "\n",
    "df = pd.DataFrame.from_records(raw_data,columns=labels)\n",
    "df.shape[0]\n",
    "emoji_status = df[df.status.str.contains(\"\\[\")]\n",
    "#emoji_status"
   ]
  },
  {
   "cell_type": "code",
   "execution_count": 5,
   "metadata": {},
   "outputs": [
    {
     "data": {
      "text/plain": [
       "{'右哼哼': 1, '左哼哼': 1, '懒得理你': 1, '兔子': 1}"
      ]
     },
     "execution_count": 5,
     "metadata": {},
     "output_type": "execute_result"
    }
   ],
   "source": [
    "import array\n",
    "# this function return all the emojis present in a status and the number of occurence\n",
    "def emoji_list(status):\n",
    "    status_emoji = {}\n",
    "    emoji = ''\n",
    "    flag = False\n",
    "    for ch in status:\n",
    "        if ch == ']':\n",
    "            flag = False\n",
    "            if emoji in status_emoji.keys():\n",
    "                status_emoji[emoji] += 1\n",
    "            else:\n",
    "                status_emoji[emoji] = 1\n",
    "            emoji=\"\"\n",
    "        else:\n",
    "            if not flag:\n",
    "                if ch == '[':\n",
    "                    flag = True\n",
    "            else:\n",
    "                emoji += ch\n",
    "    return status_emoji\n",
    "test = emoji_list('东方明珠比十年前还没意思[右哼哼][左哼哼][懒得理你][兔子] 我在这里:http://t.cn/zl61aYv')\n",
    "test\n"
   ]
  },
  {
   "cell_type": "code",
   "execution_count": 6,
   "metadata": {},
   "outputs": [
    {
     "data": {
      "text/plain": [
       "[3.0, 2.0, 1.0, 3.0, -2.0, 3.0]"
      ]
     },
     "execution_count": 6,
     "metadata": {},
     "output_type": "execute_result"
    }
   ],
   "source": [
    "# this function return an array with 6 integers, giving the 6 scores for a given status\n",
    "from operator import itemgetter\n",
    "filename = 'emoji_status_rated.csv'\n",
    "\n",
    "\n",
    "\n",
    "def status_rating(status):\n",
    "    csv_file = csv.reader(open(filename, 'r',encoding='UTF-8'))\n",
    "    rating = [0] * 6\n",
    "    status_compo = emoji_list(status)\n",
    "    for key,value in status_compo.items():\n",
    "        for row in csv_file:\n",
    "            #print(\"On essaye \",key, row[1])\n",
    "            if key == row[1]:\n",
    "                rating[0] += float(row[4])*value # Happy\n",
    "                rating[1] += float(row[5])*value # Boost\n",
    "                rating[2] += float(row[6])*value # Chill\n",
    "                rating[3] += float(row[7])*value # loved\n",
    "                rating[4] += float(row[8])*value # Adventure\n",
    "                rating[5] += float(row[9])*value # Freedom\n",
    "                break       \n",
    "    return rating\n",
    "\n",
    "test2 = status_rating('The food just so so here [围脖] 我在#首尔焖鲜汇# http://t.cn/zjtAtq9')\n",
    "test2"
   ]
  },
  {
   "cell_type": "code",
   "execution_count": 7,
   "metadata": {},
   "outputs": [],
   "source": [
    "# we here have all the weibo status with emojis. What we do here, using the previous function, is for each LOCATION\n",
    "# we add all the ratings of the concerned status in the shape : {location_id, (a,b,c,d,e,f,g)}\n",
    "import numpy as np\n",
    "feeling_rating = {}\n",
    "\n",
    "for row in emoji_status.iterrows():\n",
    "    status = str(row[1].status)\n",
    "    rate = status_rating(status) #rate will be like (a,b,c,d,e,f,g)  \n",
    "    loc_id = row[1].loc_id\n",
    "    ####    \n",
    "    if loc_id in feeling_rating.keys():\n",
    "        new_data = [0] * 6\n",
    "        new_data[0] = feeling_rating[loc_id][0] + rate[0]\n",
    "        new_data[1] = feeling_rating[loc_id][1] + rate[1]\n",
    "        new_data[2] = feeling_rating[loc_id][2] + rate[2]\n",
    "        new_data[3] = feeling_rating[loc_id][3] + rate[3]\n",
    "        new_data[4] = feeling_rating[loc_id][4] + rate[4]\n",
    "        new_data[5] = feeling_rating[loc_id][5] + rate[5]\n",
    "        feeling_rating[loc_id] = new_data\n",
    "    else:\n",
    "        feeling_rating[loc_id] = rate\n",
    "\n",
    "\n",
    "    "
   ]
  },
  {
   "cell_type": "code",
   "execution_count": 8,
   "metadata": {},
   "outputs": [],
   "source": [
    "import pickle \n",
    "with open('svg_feeling_rating','wb') as handle:\n",
    "    pickle.dump(feeling_rating,handle,protocol=pickle.HIGHEST_PROTOCOL)"
   ]
  },
  {
   "cell_type": "code",
   "execution_count": 10,
   "metadata": {},
   "outputs": [],
   "source": [
    "df_test = pd.DataFrame.from_dict(feeling_rating,orient='index')\n",
    "df_test.to_csv('loc_feeling_rating.csv')"
   ]
  },
  {
   "cell_type": "markdown",
   "metadata": {},
   "source": [
    "Normalize CSV"
   ]
  },
  {
   "cell_type": "code",
   "execution_count": 47,
   "metadata": {},
   "outputs": [
    {
     "data": {
      "text/html": [
       "<div>\n",
       "<style scoped>\n",
       "    .dataframe tbody tr th:only-of-type {\n",
       "        vertical-align: middle;\n",
       "    }\n",
       "\n",
       "    .dataframe tbody tr th {\n",
       "        vertical-align: top;\n",
       "    }\n",
       "\n",
       "    .dataframe thead th {\n",
       "        text-align: right;\n",
       "    }\n",
       "</style>\n",
       "<table border=\"1\" class=\"dataframe\">\n",
       "  <thead>\n",
       "    <tr style=\"text-align: right;\">\n",
       "      <th></th>\n",
       "      <th>Unnamed: 0</th>\n",
       "      <th>0</th>\n",
       "      <th>1</th>\n",
       "      <th>2</th>\n",
       "      <th>3</th>\n",
       "      <th>4</th>\n",
       "      <th>5</th>\n",
       "    </tr>\n",
       "  </thead>\n",
       "  <tbody>\n",
       "    <tr>\n",
       "      <th>count</th>\n",
       "      <td>39307.000000</td>\n",
       "      <td>39307.000000</td>\n",
       "      <td>39307.000000</td>\n",
       "      <td>39307.000000</td>\n",
       "      <td>39307.000000</td>\n",
       "      <td>39307.000000</td>\n",
       "      <td>39307.000000</td>\n",
       "    </tr>\n",
       "    <tr>\n",
       "      <th>mean</th>\n",
       "      <td>27165.698654</td>\n",
       "      <td>12.160684</td>\n",
       "      <td>13.234004</td>\n",
       "      <td>-0.282291</td>\n",
       "      <td>8.933014</td>\n",
       "      <td>13.077569</td>\n",
       "      <td>12.778462</td>\n",
       "    </tr>\n",
       "    <tr>\n",
       "      <th>std</th>\n",
       "      <td>16174.770981</td>\n",
       "      <td>64.435527</td>\n",
       "      <td>63.465762</td>\n",
       "      <td>26.338007</td>\n",
       "      <td>42.708594</td>\n",
       "      <td>40.130928</td>\n",
       "      <td>48.012542</td>\n",
       "    </tr>\n",
       "    <tr>\n",
       "      <th>min</th>\n",
       "      <td>8.000000</td>\n",
       "      <td>-2374.000000</td>\n",
       "      <td>-2154.000000</td>\n",
       "      <td>-1467.000000</td>\n",
       "      <td>-1097.000000</td>\n",
       "      <td>-220.000000</td>\n",
       "      <td>-850.000000</td>\n",
       "    </tr>\n",
       "    <tr>\n",
       "      <th>25%</th>\n",
       "      <td>12662.000000</td>\n",
       "      <td>-2.000000</td>\n",
       "      <td>-2.000000</td>\n",
       "      <td>-3.000000</td>\n",
       "      <td>0.000000</td>\n",
       "      <td>1.000000</td>\n",
       "      <td>0.000000</td>\n",
       "    </tr>\n",
       "    <tr>\n",
       "      <th>50%</th>\n",
       "      <td>27707.000000</td>\n",
       "      <td>4.000000</td>\n",
       "      <td>4.000000</td>\n",
       "      <td>1.000000</td>\n",
       "      <td>2.000000</td>\n",
       "      <td>4.000000</td>\n",
       "      <td>4.000000</td>\n",
       "    </tr>\n",
       "    <tr>\n",
       "      <th>75%</th>\n",
       "      <td>40875.500000</td>\n",
       "      <td>15.000000</td>\n",
       "      <td>15.000000</td>\n",
       "      <td>5.000000</td>\n",
       "      <td>10.000000</td>\n",
       "      <td>12.000000</td>\n",
       "      <td>12.000000</td>\n",
       "    </tr>\n",
       "    <tr>\n",
       "      <th>max</th>\n",
       "      <td>54678.000000</td>\n",
       "      <td>3381.000000</td>\n",
       "      <td>3607.000000</td>\n",
       "      <td>849.000000</td>\n",
       "      <td>2668.000000</td>\n",
       "      <td>1687.000000</td>\n",
       "      <td>2514.000000</td>\n",
       "    </tr>\n",
       "  </tbody>\n",
       "</table>\n",
       "</div>"
      ],
      "text/plain": [
       "         Unnamed: 0             0             1             2             3  \\\n",
       "count  39307.000000  39307.000000  39307.000000  39307.000000  39307.000000   \n",
       "mean   27165.698654     12.160684     13.234004     -0.282291      8.933014   \n",
       "std    16174.770981     64.435527     63.465762     26.338007     42.708594   \n",
       "min        8.000000  -2374.000000  -2154.000000  -1467.000000  -1097.000000   \n",
       "25%    12662.000000     -2.000000     -2.000000     -3.000000      0.000000   \n",
       "50%    27707.000000      4.000000      4.000000      1.000000      2.000000   \n",
       "75%    40875.500000     15.000000     15.000000      5.000000     10.000000   \n",
       "max    54678.000000   3381.000000   3607.000000    849.000000   2668.000000   \n",
       "\n",
       "                  4             5  \n",
       "count  39307.000000  39307.000000  \n",
       "mean      13.077569     12.778462  \n",
       "std       40.130928     48.012542  \n",
       "min     -220.000000   -850.000000  \n",
       "25%        1.000000      0.000000  \n",
       "50%        4.000000      4.000000  \n",
       "75%       12.000000     12.000000  \n",
       "max     1687.000000   2514.000000  "
      ]
     },
     "execution_count": 47,
     "metadata": {},
     "output_type": "execute_result"
    }
   ],
   "source": [
    "filename = 'loc_feeling_rating.csv'\n",
    "csv_file = csv.reader(open(filename, 'r',encoding='UTF-8'))\n",
    "%matplotlib inline\n",
    "import matplotlib.pyplot as plt\n",
    "\n",
    "df = pd.read_csv(filename)\n",
    "df.describe()"
   ]
  },
  {
   "cell_type": "code",
   "execution_count": 42,
   "metadata": {},
   "outputs": [],
   "source": [
    "filename = 'loc_feeling_rating.csv'\n",
    "csv_file = csv.reader(open(filename, 'r',encoding='UTF-8'))\n",
    "max_happy = max(float(column[1].replace(',', '')) for column in csv_file)\n",
    "\n",
    "csv_file = csv.reader(open(filename, 'r',encoding='UTF-8'))\n",
    "max_boost = max(float(column[2].replace(',', '')) for column in csv_file)\n",
    "\n",
    "csv_file = csv.reader(open(filename, 'r',encoding='UTF-8'))\n",
    "max_chill = max(float(column[3].replace(',', '')) for column in csv_file)\n",
    "\n",
    "csv_file = csv.reader(open(filename, 'r',encoding='UTF-8'))\n",
    "max_loved = max(float(column[4].replace(',', '')) for column in csv_file)\n",
    "\n",
    "csv_file = csv.reader(open(filename, 'r',encoding='UTF-8'))\n",
    "max_adventure = max(float(column[5].replace(',', '')) for column in csv_file)\n",
    "\n",
    "csv_file = csv.reader(open(filename, 'r',encoding='UTF-8'))\n",
    "max_free = max(float(column[6].replace(',', '')) for column in csv_file)"
   ]
  },
  {
   "cell_type": "code",
   "execution_count": 43,
   "metadata": {},
   "outputs": [
    {
     "name": "stdout",
     "output_type": "stream",
     "text": [
      "3381.0\n",
      "3607.0\n",
      "849.0\n",
      "2668.0\n",
      "1687.0\n",
      "2514.0\n"
     ]
    }
   ],
   "source": [
    "print(max_happy)\n",
    "print(max_boost)\n",
    "print(max_chill)\n",
    "print(max_loved)\n",
    "print(max_adventure)\n",
    "print(max_free)"
   ]
  },
  {
   "cell_type": "code",
   "execution_count": null,
   "metadata": {},
   "outputs": [],
   "source": []
  }
 ],
 "metadata": {
  "kernelspec": {
   "display_name": "Python 3",
   "language": "python",
   "name": "python3"
  },
  "language_info": {
   "codemirror_mode": {
    "name": "ipython",
    "version": 3
   },
   "file_extension": ".py",
   "mimetype": "text/x-python",
   "name": "python",
   "nbconvert_exporter": "python",
   "pygments_lexer": "ipython3",
   "version": "3.7.0"
  }
 },
 "nbformat": 4,
 "nbformat_minor": 2
}
